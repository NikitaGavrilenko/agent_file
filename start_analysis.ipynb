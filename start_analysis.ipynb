{
 "cells": [
  {
   "cell_type": "markdown",
   "metadata": {},
   "source": [
    "# 🚀 Анализ рисков и ошибок в документах\n",
    "\n",
    "## Шаг 1: Установка зависимостей\n",
    "Сначала установите `nest_asyncio`, если еще не установлен:\n"
   ]
  },
  {
   "cell_type": "code",
   "execution_count": 1,
   "metadata": {},
   "outputs": [
    {
     "name": "stdout",
     "output_type": "stream",
     "text": [
      "Defaulting to user installation because normal site-packages is not writeable\n",
      "Requirement already satisfied: nest_asyncio in c:\\program files\\anaconda3\\lib\\site-packages (1.6.0)\n",
      "Note: you may need to restart the kernel to use updated packages.\n"
     ]
    }
   ],
   "source": [
    "%pip install nest_asyncio\n"
   ]
  },
  {
   "cell_type": "markdown",
   "metadata": {},
   "source": [
    "## Шаг 2: Импорты и настройка\n"
   ]
  },
  {
   "cell_type": "code",
   "execution_count": 2,
   "metadata": {},
   "outputs": [
    {
     "name": "stdout",
     "output_type": "stream",
     "text": [
      "\u001b[32m2025-08-14 15:03:48\u001b[0m | \u001b[1mINFO    \u001b[0m | \u001b[36mutils.logger_config\u001b[0m:\u001b[36msetup_logging\u001b[0m:\u001b[36m46\u001b[0m - \u001b[1mЛогирование настроено. Файл: logs\\agent.log\u001b[0m\n",
      "✅ Настройка завершена\n"
     ]
    }
   ],
   "source": [
    "import asyncio\n",
    "import nest_asyncio\n",
    "from run_jupyter import run_analysis\n",
    "\n",
    "# Применяем патч для Jupyter\n",
    "nest_asyncio.apply()\n",
    "print(\"✅ Настройка завершена\")\n"
   ]
  },
  {
   "cell_type": "markdown",
   "metadata": {},
   "source": [
    "## Шаг 3: Запуск анализа\n",
    "\n",
    "Укажите тему анализа в параметре `question_topic`:\n"
   ]
  },
  {
   "cell_type": "code",
   "execution_count": 3,
   "metadata": {},
   "outputs": [
    {
     "name": "stdout",
     "output_type": "stream",
     "text": [
      "📁 Проверяю наличие необходимых папок...\n",
      "✅ Папка 'documents' уже существует\n",
      "✅ Папка 'reports' уже существует\n",
      "✅ Папка 'logs' уже существует\n",
      "\u001b[32m2025-08-14 15:03:51\u001b[0m | \u001b[1mINFO    \u001b[0m | \u001b[36mutils.file_manager\u001b[0m:\u001b[36m_ensure_directories\u001b[0m:\u001b[36m24\u001b[0m - \u001b[1mПапка reports готова к использованию\u001b[0m\n",
      "\u001b[32m2025-08-14 15:03:51\u001b[0m | \u001b[1mINFO    \u001b[0m | \u001b[36mutils.file_manager\u001b[0m:\u001b[36m_ensure_directories\u001b[0m:\u001b[36m24\u001b[0m - \u001b[1mПапка logs готова к использованию\u001b[0m\n",
      "\u001b[32m2025-08-14 15:03:51\u001b[0m | \u001b[1mINFO    \u001b[0m | \u001b[36mutils.file_manager\u001b[0m:\u001b[36m_ensure_directories\u001b[0m:\u001b[36m24\u001b[0m - \u001b[1mПапка documents готова к использованию\u001b[0m\n",
      "\u001b[32m2025-08-14 15:03:51\u001b[0m | \u001b[1mINFO    \u001b[0m | \u001b[36magent.document_analyzer\u001b[0m:\u001b[36manalyze_documents\u001b[0m:\u001b[36m57\u001b[0m - \u001b[1mНачинаем анализ документов для темы: Анализ рисков и ошибок в документах ООО «Вирту Системс»\u001b[0m\n",
      "\u001b[32m2025-08-14 15:03:51\u001b[0m | \u001b[1mINFO    \u001b[0m | \u001b[36magent.document_analyzer\u001b[0m:\u001b[36manalyze_documents\u001b[0m:\u001b[36m61\u001b[0m - \u001b[1mШаг 1: Загрузка документов\u001b[0m\n",
      "\u001b[32m2025-08-14 15:03:51\u001b[0m | \u001b[1mINFO    \u001b[0m | \u001b[36mutils.file_loader\u001b[0m:\u001b[36mload_documents_from_folder\u001b[0m:\u001b[36m42\u001b[0m - \u001b[1mНайдено 38 поддерживаемых файлов\u001b[0m\n",
      "\u001b[32m2025-08-14 15:03:52\u001b[0m | \u001b[31m\u001b[1mERROR   \u001b[0m | \u001b[36mutils.file_loader\u001b[0m:\u001b[36m_load_pptx\u001b[0m:\u001b[36m152\u001b[0m - \u001b[31m\u001b[1mpython-pptx не установлен. Установите: pip install python-pptx\u001b[0m\n",
      "\u001b[32m2025-08-14 15:03:52\u001b[0m | \u001b[33m\u001b[1mWARNING \u001b[0m | \u001b[36mutils.file_loader\u001b[0m:\u001b[36mload_single_document\u001b[0m:\u001b[36m75\u001b[0m - \u001b[33m\u001b[1mНе удалось извлечь содержимое из файла: documents\\Презентация_CД_закупка сертификатов для ДРС.pptx\u001b[0m\n",
      "\u001b[32m2025-08-14 15:03:56\u001b[0m | \u001b[1mINFO    \u001b[0m | \u001b[36mutils.file_loader\u001b[0m:\u001b[36mload_documents_from_folder\u001b[0m:\u001b[36m54\u001b[0m - \u001b[1mУспешно загружено 37 документов\u001b[0m\n",
      "\u001b[32m2025-08-14 15:03:56\u001b[0m | \u001b[1mINFO    \u001b[0m | \u001b[36magent.document_analyzer\u001b[0m:\u001b[36m_load_documents\u001b[0m:\u001b[36m162\u001b[0m - \u001b[1mЗагружено 37 документов из папки documents\u001b[0m\n",
      "\u001b[32m2025-08-14 15:03:56\u001b[0m | \u001b[1mINFO    \u001b[0m | \u001b[36magent.document_analyzer\u001b[0m:\u001b[36manalyze_documents\u001b[0m:\u001b[36m67\u001b[0m - \u001b[1mШаг 2: Предобработка документов\u001b[0m\n",
      "\u001b[32m2025-08-14 15:03:56\u001b[0m | \u001b[1mINFO    \u001b[0m | \u001b[36magent.document_analyzer\u001b[0m:\u001b[36m_preprocess_documents\u001b[0m:\u001b[36m189\u001b[0m - \u001b[1mДокументы предобработаны: 37 -> 37\u001b[0m\n",
      "\u001b[32m2025-08-14 15:03:56\u001b[0m | \u001b[1mINFO    \u001b[0m | \u001b[36magent.document_analyzer\u001b[0m:\u001b[36manalyze_documents\u001b[0m:\u001b[36m69\u001b[0m - \u001b[1mДокументы разбиты на 37 чанков\u001b[0m\n",
      "\u001b[32m2025-08-14 15:03:56\u001b[0m | \u001b[1mINFO    \u001b[0m | \u001b[36magent.document_analyzer\u001b[0m:\u001b[36manalyze_documents\u001b[0m:\u001b[36m72\u001b[0m - \u001b[1mШаг 3: Извлечение рисков\u001b[0m\n",
      "\u001b[32m2025-08-14 15:03:56\u001b[0m | \u001b[1mINFO    \u001b[0m | \u001b[36magent.document_analyzer\u001b[0m:\u001b[36m_extract_risks_with_chunking\u001b[0m:\u001b[36m232\u001b[0m - \u001b[1mДокументы сгруппированы в 8 групп для обработки\u001b[0m\n",
      "\u001b[32m2025-08-14 15:03:56\u001b[0m | \u001b[1mINFO    \u001b[0m | \u001b[36magent.document_analyzer\u001b[0m:\u001b[36m_extract_risks_with_chunking\u001b[0m:\u001b[36m236\u001b[0m - \u001b[1mОбрабатываем группу документов 1/8\u001b[0m\n",
      "\u001b[32m2025-08-14 15:04:14\u001b[0m | \u001b[32m\u001b[1mSUCCESS \u001b[0m | \u001b[36magent.risk_extractor\u001b[0m:\u001b[36m_extract_risks_from_batch\u001b[0m:\u001b[36m134\u001b[0m - \u001b[32m\u001b[1mУспешно извлечено 3 рисков из батча\u001b[0m\n",
      "\u001b[32m2025-08-14 15:04:14\u001b[0m | \u001b[1mINFO    \u001b[0m | \u001b[36magent.risk_extractor\u001b[0m:\u001b[36mextract_risks_from_documents\u001b[0m:\u001b[36m80\u001b[0m - \u001b[1mИзвлечено 3 рисков из 4 документов\u001b[0m\n",
      "\u001b[32m2025-08-14 15:04:14\u001b[0m | \u001b[1mINFO    \u001b[0m | \u001b[36magent.document_analyzer\u001b[0m:\u001b[36m_extract_risks_with_chunking\u001b[0m:\u001b[36m252\u001b[0m - \u001b[1mИз группы 1 извлечено 3 рисков\u001b[0m\n",
      "\u001b[32m2025-08-14 15:04:14\u001b[0m | \u001b[1mINFO    \u001b[0m | \u001b[36magent.document_analyzer\u001b[0m:\u001b[36m_extract_risks_with_chunking\u001b[0m:\u001b[36m236\u001b[0m - \u001b[1mОбрабатываем группу документов 2/8\u001b[0m\n",
      "\u001b[32m2025-08-14 15:04:38\u001b[0m | \u001b[32m\u001b[1mSUCCESS \u001b[0m | \u001b[36magent.risk_extractor\u001b[0m:\u001b[36m_extract_risks_from_batch\u001b[0m:\u001b[36m134\u001b[0m - \u001b[32m\u001b[1mУспешно извлечено 5 рисков из батча\u001b[0m\n",
      "\u001b[32m2025-08-14 15:04:38\u001b[0m | \u001b[1mINFO    \u001b[0m | \u001b[36magent.risk_extractor\u001b[0m:\u001b[36mextract_risks_from_documents\u001b[0m:\u001b[36m80\u001b[0m - \u001b[1mИзвлечено 5 рисков из 1 документов\u001b[0m\n",
      "\u001b[32m2025-08-14 15:04:38\u001b[0m | \u001b[1mINFO    \u001b[0m | \u001b[36magent.document_analyzer\u001b[0m:\u001b[36m_extract_risks_with_chunking\u001b[0m:\u001b[36m252\u001b[0m - \u001b[1mИз группы 2 извлечено 5 рисков\u001b[0m\n",
      "\u001b[32m2025-08-14 15:04:38\u001b[0m | \u001b[1mINFO    \u001b[0m | \u001b[36magent.document_analyzer\u001b[0m:\u001b[36m_extract_risks_with_chunking\u001b[0m:\u001b[36m236\u001b[0m - \u001b[1mОбрабатываем группу документов 3/8\u001b[0m\n",
      "\u001b[32m2025-08-14 15:04:56\u001b[0m | \u001b[32m\u001b[1mSUCCESS \u001b[0m | \u001b[36magent.risk_extractor\u001b[0m:\u001b[36m_extract_risks_from_batch\u001b[0m:\u001b[36m134\u001b[0m - \u001b[32m\u001b[1mУспешно извлечено 2 рисков из батча\u001b[0m\n",
      "\u001b[32m2025-08-14 15:04:56\u001b[0m | \u001b[1mINFO    \u001b[0m | \u001b[36magent.risk_extractor\u001b[0m:\u001b[36mextract_risks_from_documents\u001b[0m:\u001b[36m80\u001b[0m - \u001b[1mИзвлечено 2 рисков из 4 документов\u001b[0m\n",
      "\u001b[32m2025-08-14 15:04:56\u001b[0m | \u001b[1mINFO    \u001b[0m | \u001b[36magent.document_analyzer\u001b[0m:\u001b[36m_extract_risks_with_chunking\u001b[0m:\u001b[36m252\u001b[0m - \u001b[1mИз группы 3 извлечено 2 рисков\u001b[0m\n",
      "\u001b[32m2025-08-14 15:04:56\u001b[0m | \u001b[1mINFO    \u001b[0m | \u001b[36magent.document_analyzer\u001b[0m:\u001b[36m_extract_risks_with_chunking\u001b[0m:\u001b[36m236\u001b[0m - \u001b[1mОбрабатываем группу документов 4/8\u001b[0m\n",
      "\u001b[32m2025-08-14 15:05:15\u001b[0m | \u001b[32m\u001b[1mSUCCESS \u001b[0m | \u001b[36magent.risk_extractor\u001b[0m:\u001b[36m_extract_risks_from_batch\u001b[0m:\u001b[36m134\u001b[0m - \u001b[32m\u001b[1mУспешно извлечено 4 рисков из батча\u001b[0m\n",
      "\u001b[32m2025-08-14 15:05:15\u001b[0m | \u001b[1mINFO    \u001b[0m | \u001b[36magent.risk_extractor\u001b[0m:\u001b[36mextract_risks_from_documents\u001b[0m:\u001b[36m80\u001b[0m - \u001b[1mИзвлечено 4 рисков из 2 документов\u001b[0m\n",
      "\u001b[32m2025-08-14 15:05:15\u001b[0m | \u001b[1mINFO    \u001b[0m | \u001b[36magent.document_analyzer\u001b[0m:\u001b[36m_extract_risks_with_chunking\u001b[0m:\u001b[36m252\u001b[0m - \u001b[1mИз группы 4 извлечено 4 рисков\u001b[0m\n",
      "\u001b[32m2025-08-14 15:05:15\u001b[0m | \u001b[1mINFO    \u001b[0m | \u001b[36magent.document_analyzer\u001b[0m:\u001b[36m_extract_risks_with_chunking\u001b[0m:\u001b[36m236\u001b[0m - \u001b[1mОбрабатываем группу документов 5/8\u001b[0m\n",
      "\u001b[32m2025-08-14 15:05:36\u001b[0m | \u001b[32m\u001b[1mSUCCESS \u001b[0m | \u001b[36magent.risk_extractor\u001b[0m:\u001b[36m_extract_risks_from_batch\u001b[0m:\u001b[36m134\u001b[0m - \u001b[32m\u001b[1mУспешно извлечено 4 рисков из батча\u001b[0m\n",
      "\u001b[32m2025-08-14 15:05:36\u001b[0m | \u001b[1mINFO    \u001b[0m | \u001b[36magent.risk_extractor\u001b[0m:\u001b[36mextract_risks_from_documents\u001b[0m:\u001b[36m80\u001b[0m - \u001b[1mИзвлечено 4 рисков из 2 документов\u001b[0m\n",
      "\u001b[32m2025-08-14 15:05:36\u001b[0m | \u001b[1mINFO    \u001b[0m | \u001b[36magent.document_analyzer\u001b[0m:\u001b[36m_extract_risks_with_chunking\u001b[0m:\u001b[36m252\u001b[0m - \u001b[1mИз группы 5 извлечено 4 рисков\u001b[0m\n",
      "\u001b[32m2025-08-14 15:05:36\u001b[0m | \u001b[1mINFO    \u001b[0m | \u001b[36magent.document_analyzer\u001b[0m:\u001b[36m_extract_risks_with_chunking\u001b[0m:\u001b[36m236\u001b[0m - \u001b[1mОбрабатываем группу документов 6/8\u001b[0m\n",
      "\u001b[32m2025-08-14 15:05:56\u001b[0m | \u001b[32m\u001b[1mSUCCESS \u001b[0m | \u001b[36magent.risk_extractor\u001b[0m:\u001b[36m_extract_risks_from_batch\u001b[0m:\u001b[36m134\u001b[0m - \u001b[32m\u001b[1mУспешно извлечено 4 рисков из батча\u001b[0m\n",
      "\u001b[32m2025-08-14 15:05:56\u001b[0m | \u001b[1mINFO    \u001b[0m | \u001b[36magent.risk_extractor\u001b[0m:\u001b[36mextract_risks_from_documents\u001b[0m:\u001b[36m80\u001b[0m - \u001b[1mИзвлечено 4 рисков из 3 документов\u001b[0m\n",
      "\u001b[32m2025-08-14 15:05:56\u001b[0m | \u001b[1mINFO    \u001b[0m | \u001b[36magent.document_analyzer\u001b[0m:\u001b[36m_extract_risks_with_chunking\u001b[0m:\u001b[36m252\u001b[0m - \u001b[1mИз группы 6 извлечено 4 рисков\u001b[0m\n",
      "\u001b[32m2025-08-14 15:05:56\u001b[0m | \u001b[1mINFO    \u001b[0m | \u001b[36magent.document_analyzer\u001b[0m:\u001b[36m_extract_risks_with_chunking\u001b[0m:\u001b[36m236\u001b[0m - \u001b[1mОбрабатываем группу документов 7/8\u001b[0m\n",
      "\u001b[32m2025-08-14 15:06:21\u001b[0m | \u001b[32m\u001b[1mSUCCESS \u001b[0m | \u001b[36magent.risk_extractor\u001b[0m:\u001b[36m_extract_risks_from_batch\u001b[0m:\u001b[36m134\u001b[0m - \u001b[32m\u001b[1mУспешно извлечено 5 рисков из батча\u001b[0m\n",
      "\u001b[32m2025-08-14 15:06:44\u001b[0m | \u001b[32m\u001b[1mSUCCESS \u001b[0m | \u001b[36magent.risk_extractor\u001b[0m:\u001b[36m_extract_risks_from_batch\u001b[0m:\u001b[36m134\u001b[0m - \u001b[32m\u001b[1mУспешно извлечено 5 рисков из батча\u001b[0m\n",
      "\u001b[32m2025-08-14 15:07:00\u001b[0m | \u001b[32m\u001b[1mSUCCESS \u001b[0m | \u001b[36magent.risk_extractor\u001b[0m:\u001b[36m_extract_risks_from_batch\u001b[0m:\u001b[36m134\u001b[0m - \u001b[32m\u001b[1mУспешно извлечено 3 рисков из батча\u001b[0m\n",
      "\u001b[32m2025-08-14 15:07:19\u001b[0m | \u001b[32m\u001b[1mSUCCESS \u001b[0m | \u001b[36magent.risk_extractor\u001b[0m:\u001b[36m_extract_risks_from_batch\u001b[0m:\u001b[36m134\u001b[0m - \u001b[32m\u001b[1mУспешно извлечено 4 рисков из батча\u001b[0m\n",
      "\u001b[32m2025-08-14 15:07:44\u001b[0m | \u001b[32m\u001b[1mSUCCESS \u001b[0m | \u001b[36magent.risk_extractor\u001b[0m:\u001b[36m_extract_risks_from_batch\u001b[0m:\u001b[36m134\u001b[0m - \u001b[32m\u001b[1mУспешно извлечено 5 рисков из батча\u001b[0m\n",
      "\u001b[32m2025-08-14 15:07:44\u001b[0m | \u001b[1mINFO    \u001b[0m | \u001b[36magent.risk_extractor\u001b[0m:\u001b[36mextract_risks_from_documents\u001b[0m:\u001b[36m80\u001b[0m - \u001b[1mИзвлечено 22 рисков из 19 документов\u001b[0m\n",
      "\u001b[32m2025-08-14 15:07:44\u001b[0m | \u001b[1mINFO    \u001b[0m | \u001b[36magent.document_analyzer\u001b[0m:\u001b[36m_extract_risks_with_chunking\u001b[0m:\u001b[36m252\u001b[0m - \u001b[1mИз группы 7 извлечено 22 рисков\u001b[0m\n",
      "\u001b[32m2025-08-14 15:07:44\u001b[0m | \u001b[1mINFO    \u001b[0m | \u001b[36magent.document_analyzer\u001b[0m:\u001b[36m_extract_risks_with_chunking\u001b[0m:\u001b[36m236\u001b[0m - \u001b[1mОбрабатываем группу документов 8/8\u001b[0m\n",
      "\u001b[32m2025-08-14 15:08:36\u001b[0m | \u001b[32m\u001b[1mSUCCESS \u001b[0m | \u001b[36magent.risk_extractor\u001b[0m:\u001b[36m_extract_risks_from_batch\u001b[0m:\u001b[36m134\u001b[0m - \u001b[32m\u001b[1mУспешно извлечено 5 рисков из батча\u001b[0m\n",
      "\u001b[32m2025-08-14 15:08:36\u001b[0m | \u001b[1mINFO    \u001b[0m | \u001b[36magent.risk_extractor\u001b[0m:\u001b[36mextract_risks_from_documents\u001b[0m:\u001b[36m80\u001b[0m - \u001b[1mИзвлечено 5 рисков из 2 документов\u001b[0m\n",
      "\u001b[32m2025-08-14 15:08:36\u001b[0m | \u001b[1mINFO    \u001b[0m | \u001b[36magent.document_analyzer\u001b[0m:\u001b[36m_extract_risks_with_chunking\u001b[0m:\u001b[36m252\u001b[0m - \u001b[1mИз группы 8 извлечено 5 рисков\u001b[0m\n",
      "\u001b[32m2025-08-14 15:08:36\u001b[0m | \u001b[1mINFO    \u001b[0m | \u001b[36magent.document_analyzer\u001b[0m:\u001b[36manalyze_documents\u001b[0m:\u001b[36m76\u001b[0m - \u001b[1mШаг 4: Дедубликация рисков\u001b[0m\n",
      "\u001b[32m2025-08-14 15:08:36\u001b[0m | \u001b[1mINFO    \u001b[0m | \u001b[36magent.risk_deduplicator\u001b[0m:\u001b[36mdeduplicate_risks\u001b[0m:\u001b[36m84\u001b[0m - \u001b[1mНачинаем дедубликацию 49 рисков\u001b[0m\n",
      "\u001b[32m2025-08-14 15:14:02\u001b[0m | \u001b[33m\u001b[1mWARNING \u001b[0m | \u001b[36magent.risk_deduplicator\u001b[0m:\u001b[36m_first_step\u001b[0m:\u001b[36m131\u001b[0m - \u001b[33m\u001b[1mНе удалось валидировать риск: 1 validation error for Risk\n",
      "relevance\n",
      "  Input should be 'Релевантен к сделке', 'Релевантен к продукту', 'Релевантен к документации', 'Универсальный для любой компании' or 'Нерелевантный' [type=enum, input_value='Релевантен к ...кту и сделке', input_type=str]\n",
      "    For further information visit https://errors.pydantic.dev/2.11/v/enum\u001b[0m\n",
      "\u001b[32m2025-08-14 15:19:41\u001b[0m | \u001b[1mINFO    \u001b[0m | \u001b[36magent.risk_deduplicator\u001b[0m:\u001b[36mdeduplicate_risks\u001b[0m:\u001b[36m92\u001b[0m - \u001b[1mПосле дедубликации осталось 46 рисков\u001b[0m\n",
      "\u001b[32m2025-08-14 15:19:41\u001b[0m | \u001b[1mINFO    \u001b[0m | \u001b[36magent.document_analyzer\u001b[0m:\u001b[36m_deduplicate_risks\u001b[0m:\u001b[36m267\u001b[0m - \u001b[1mПосле дедубликации осталось 46 рисков из 49\u001b[0m\n",
      "\u001b[32m2025-08-14 15:19:41\u001b[0m | \u001b[1mINFO    \u001b[0m | \u001b[36magent.document_analyzer\u001b[0m:\u001b[36manalyze_documents\u001b[0m:\u001b[36m80\u001b[0m - \u001b[1mШаг 5: Анализ релевантности\u001b[0m\n",
      "\u001b[32m2025-08-14 15:21:39\u001b[0m | \u001b[1mINFO    \u001b[0m | \u001b[36magent.relevance_analyzer\u001b[0m:\u001b[36manalyze_relevance\u001b[0m:\u001b[36m71\u001b[0m - \u001b[1mПроанализирована релевантность для 46 элементов\u001b[0m\n",
      "\u001b[32m2025-08-14 15:21:39\u001b[0m | \u001b[1mINFO    \u001b[0m | \u001b[36magent.document_analyzer\u001b[0m:\u001b[36m_analyze_relevance\u001b[0m:\u001b[36m283\u001b[0m - \u001b[1mПосле анализа релевантности осталось 46 рисков из 46\u001b[0m\n",
      "\u001b[32m2025-08-14 15:21:39\u001b[0m | \u001b[1mINFO    \u001b[0m | \u001b[36magent.document_analyzer\u001b[0m:\u001b[36manalyze_documents\u001b[0m:\u001b[36m84\u001b[0m - \u001b[1mШаг 6: Генерация отчета\u001b[0m\n",
      "\u001b[32m2025-08-14 15:22:07\u001b[0m | \u001b[1mINFO    \u001b[0m | \u001b[36magent.document_analyzer\u001b[0m:\u001b[36m_generate_risk_report\u001b[0m:\u001b[36m303\u001b[0m - \u001b[1mОтчет по рискам успешно сгенерирован\u001b[0m\n",
      "\u001b[32m2025-08-14 15:22:07\u001b[0m | \u001b[1mINFO    \u001b[0m | \u001b[36magent.document_analyzer\u001b[0m:\u001b[36manalyze_documents\u001b[0m:\u001b[36m108\u001b[0m - \u001b[1mШаг 7: Сохранение отчета\u001b[0m\n",
      "\u001b[32m2025-08-14 15:22:07\u001b[0m | \u001b[1mINFO    \u001b[0m | \u001b[36mutils.file_manager\u001b[0m:\u001b[36msave_report\u001b[0m:\u001b[36m57\u001b[0m - \u001b[1mОтчет сохранен в reports\\report_Анализ_рисков_и_ошибок_в_документах_ООО_Вирту_Сист_20250814_152207.json и reports\\report_Анализ_рисков_и_ошибок_в_документах_ООО_Вирту_Сист_20250814_152207.txt\u001b[0m\n",
      "\u001b[32m2025-08-14 15:22:07\u001b[0m | \u001b[1mINFO    \u001b[0m | \u001b[36magent.document_analyzer\u001b[0m:\u001b[36manalyze_documents\u001b[0m:\u001b[36m115\u001b[0m - \u001b[1mОтчет сохранен в: reports\\report_Анализ_рисков_и_ошибок_в_документах_ООО_Вирту_Сист_20250814_152207.json\u001b[0m\n",
      "\u001b[32m2025-08-14 15:22:07\u001b[0m | \u001b[1mINFO    \u001b[0m | \u001b[36magent.document_analyzer\u001b[0m:\u001b[36manalyze_documents\u001b[0m:\u001b[36m122\u001b[0m - \u001b[1mШаг 8: Сохранение логов\u001b[0m\n",
      "\u001b[32m2025-08-14 15:22:07\u001b[0m | \u001b[1mINFO    \u001b[0m | \u001b[36mutils.file_manager\u001b[0m:\u001b[36msave_logs\u001b[0m:\u001b[36m159\u001b[0m - \u001b[1mЛоги сохранены в logs\\analysis_log_20250814_152207.json\u001b[0m\n",
      "\u001b[32m2025-08-14 15:22:07\u001b[0m | \u001b[1mINFO    \u001b[0m | \u001b[36magent.document_analyzer\u001b[0m:\u001b[36manalyze_documents\u001b[0m:\u001b[36m145\u001b[0m - \u001b[1mЛоги сохранены в: logs\\analysis_log_20250814_152207.json\u001b[0m\n",
      "\u001b[32m2025-08-14 15:22:07\u001b[0m | \u001b[1mINFO    \u001b[0m | \u001b[36magent.document_analyzer\u001b[0m:\u001b[36manalyze_documents\u001b[0m:\u001b[36m151\u001b[0m - \u001b[1mАнализ завершен за 1096.52 секунд\u001b[0m\n",
      "\n",
      "✅ АНАЛИЗ ЗАВЕРШЕН УСПЕШНО!\n",
      "📊 Документов проанализировано: 37\n",
      "⚠️  Элементов найдено: 49\n",
      "🔍 Элементов после дедубликации: 46\n",
      "🎯 Элементов с релевантностью: 46\n",
      "⏱️  Время обработки: 1096.52 сек\n",
      "📁 Отчет сохранен в: reports\\report_Анализ_рисков_и_ошибок_в_документах_ООО_Вирту_Сист_20250814_152207.json\n",
      "📋 Логи сохранены в: logs\\analysis_log_20250814_152207.json\n",
      "\n",
      "📋 РАЗБИВКА ПО ТИПАМ:\n",
      "• Риск: 25\n",
      "• Ошибка: 21\n",
      "\n",
      "🎯 РАЗБИВКА ПО РЕЛЕВАНТНОСТИ:\n",
      "• Релевантен к документации: 14\n",
      "• Релевантен к сделке: 25\n",
      "• Релевантен к продукту: 6\n",
      "• Универсальный для любой компании: 1\n",
      "\n",
      "📁 Отчеты сохранены в папку 'reports'\n",
      "📋 Логи сохранены в папку 'logs'\n"
     ]
    }
   ],
   "source": [
    "# Запускаем анализ\n",
    "question_topic = \"Анализ рисков и ошибок в документах ООО «Вирту Системс»\"\n",
    "result = run_analysis(question_topic)\n"
   ]
  },
  {
   "cell_type": "markdown",
   "metadata": {},
   "source": [
    "## Шаг 4: Просмотр результатов\n"
   ]
  },
  {
   "cell_type": "code",
   "execution_count": 7,
   "metadata": {},
   "outputs": [
    {
     "name": "stdout",
     "output_type": "stream",
     "text": [
      "📊 РЕЗУЛЬТАТЫ АНАЛИЗА:\n",
      "Документов проанализировано: 21\n",
      "Элементов найдено: 29\n",
      "После дедубликации: 8\n",
      "С релевантностью: 8\n",
      "Время обработки: 377.29 сек\n",
      "\n",
      "📋 РАЗБИВКА ПО ТИПАМ:\n",
      "• Ошибка: 4\n",
      "• Риск: 4\n",
      "\n",
      "🎯 РАЗБИВКА ПО РЕЛЕВАНТНОСТИ:\n",
      "• Релевантен к сделке: 2\n",
      "• Релевантен к документации: 3\n",
      "• Универсальный для любой компании: 1\n",
      "• Релевантен к продукту: 2\n"
     ]
    }
   ],
   "source": [
    "if result:\n",
    "    print(\"📊 РЕЗУЛЬТАТЫ АНАЛИЗА:\")\n",
    "    print(f\"Документов проанализировано: {result['documents_analyzed']}\")\n",
    "    print(f\"Элементов найдено: {result['risks_found']}\")\n",
    "    print(f\"После дедубликации: {result['risks_after_deduplication']}\")\n",
    "    print(f\"С релевантностью: {result['risks_with_relevance']}\")\n",
    "    print(f\"Время обработки: {result['processing_time_seconds']:.2f} сек\")\n",
    "    \n",
    "    # Показываем статистику\n",
    "    if 'analysis_summary' in result and 'risk_statistics' in result['analysis_summary']:\n",
    "        stats = result['analysis_summary']['risk_statistics']\n",
    "        \n",
    "        print(\"\\n📋 РАЗБИВКА ПО ТИПАМ:\")\n",
    "        if 'types' in stats:\n",
    "            for risk_type, count in stats['types'].items():\n",
    "                print(f\"• {risk_type}: {count}\")\n",
    "        \n",
    "        print(\"\\n🎯 РАЗБИВКА ПО РЕЛЕВАНТНОСТИ:\")\n",
    "        if 'relevance' in stats:\n",
    "            for relevance, count in stats['relevance'].items():\n",
    "                print(f\"• {relevance}: {count}\")\n",
    "else:\n",
    "    print(\"❌ Анализ не удался\")\n"
   ]
  },
  {
   "cell_type": "markdown",
   "metadata": {},
   "source": [
    "## Шаг 5: Просмотр отчета\n"
   ]
  },
  {
   "cell_type": "code",
   "execution_count": 8,
   "metadata": {},
   "outputs": [
    {
     "name": "stdout",
     "output_type": "stream",
     "text": [
      "❌ Отчет не найден\n"
     ]
    }
   ],
   "source": [
    "if result and 'report' in result:\n",
    "    print(\"📄 ОТЧЕТ:\")\n",
    "    print(\"=\" * 80)\n",
    "    print(result['report'])\n",
    "    print(\"=\" * 80)\n",
    "    print(\"\\n📁 Полный отчет сохранен в папку 'reports/'\")\n",
    "else:\n",
    "    print(\"❌ Отчет не найден\")\n"
   ]
  },
  {
   "cell_type": "markdown",
   "metadata": {},
   "source": [
    "## Шаг 6: Просмотр рисков и ошибок\n"
   ]
  },
  {
   "cell_type": "code",
   "execution_count": 9,
   "metadata": {},
   "outputs": [
    {
     "name": "stdout",
     "output_type": "stream",
     "text": [
      "📋 СПИСОК РИСКОВ И ОШИБОК:\n",
      "================================================================================\n"
     ]
    },
    {
     "ename": "AttributeError",
     "evalue": "'dict' object has no attribute 'type'",
     "output_type": "error",
     "traceback": [
      "\u001b[1;31m---------------------------------------------------------------------------\u001b[0m",
      "\u001b[1;31mAttributeError\u001b[0m                            Traceback (most recent call last)",
      "Cell \u001b[1;32mIn[9], line 6\u001b[0m\n\u001b[0;32m      3\u001b[0m \u001b[38;5;28mprint\u001b[39m(\u001b[38;5;124m\"\u001b[39m\u001b[38;5;124m=\u001b[39m\u001b[38;5;124m\"\u001b[39m \u001b[38;5;241m*\u001b[39m \u001b[38;5;241m80\u001b[39m)\n\u001b[0;32m      5\u001b[0m \u001b[38;5;28;01mfor\u001b[39;00m i, risk \u001b[38;5;129;01min\u001b[39;00m \u001b[38;5;28menumerate\u001b[39m(result[\u001b[38;5;124m'\u001b[39m\u001b[38;5;124mrisks_with_relevance_data\u001b[39m\u001b[38;5;124m'\u001b[39m], \u001b[38;5;241m1\u001b[39m):\n\u001b[1;32m----> 6\u001b[0m     \u001b[38;5;28mprint\u001b[39m(\u001b[38;5;124mf\u001b[39m\u001b[38;5;124m\"\u001b[39m\u001b[38;5;130;01m\\n\u001b[39;00m\u001b[38;5;132;01m{\u001b[39;00mi\u001b[38;5;132;01m}\u001b[39;00m\u001b[38;5;124m. \u001b[39m\u001b[38;5;132;01m{\u001b[39;00mrisk\u001b[38;5;241m.\u001b[39mtype\u001b[38;5;241m.\u001b[39mvalue\u001b[38;5;132;01m}\u001b[39;00m\u001b[38;5;124m\"\u001b[39m)\n\u001b[0;32m      7\u001b[0m     \u001b[38;5;28mprint\u001b[39m(\u001b[38;5;124mf\u001b[39m\u001b[38;5;124m\"\u001b[39m\u001b[38;5;124mОписание: \u001b[39m\u001b[38;5;132;01m{\u001b[39;00mrisk\u001b[38;5;241m.\u001b[39mdescription\u001b[38;5;132;01m}\u001b[39;00m\u001b[38;5;124m\"\u001b[39m)\n\u001b[0;32m      8\u001b[0m     \u001b[38;5;28mprint\u001b[39m(\u001b[38;5;124mf\u001b[39m\u001b[38;5;124m\"\u001b[39m\u001b[38;5;124mОбоснование: \u001b[39m\u001b[38;5;132;01m{\u001b[39;00mrisk\u001b[38;5;241m.\u001b[39mjustification\u001b[38;5;132;01m}\u001b[39;00m\u001b[38;5;124m\"\u001b[39m)\n",
      "\u001b[1;31mAttributeError\u001b[0m: 'dict' object has no attribute 'type'"
     ]
    }
   ],
   "source": [
    "if result and 'risks_with_relevance_data' in result:\n",
    "    print(\"📋 СПИСОК РИСКОВ И ОШИБОК:\")\n",
    "    print(\"=\" * 80)\n",
    "    \n",
    "    for i, risk in enumerate(result['risks_with_relevance_data'], 1):\n",
    "        print(f\"\\n{i}. {risk.type.value}\")\n",
    "        print(f\"Описание: {risk.description}\")\n",
    "        print(f\"Обоснование: {risk.justification}\")\n",
    "        print(f\"Релевантность: {risk.relevance.value}\")\n",
    "        print(f\"Рекомендации:\")\n",
    "        for rec in risk.recommendations:\n",
    "            print(f\"  • {rec}\")\n",
    "        print(\"-\" * 40)\n",
    "else:\n",
    "    print(\"❌ Список рисков и ошибок не найден\")\n"
   ]
  },
  {
   "cell_type": "markdown",
   "metadata": {},
   "source": [
    "## 🎉 Готово!\n",
    "\n",
    "Теперь вы можете:\n",
    "1. Изменить тему анализа в `question_topic`\n",
    "2. Запустить все ячейки заново\n",
    "3. Посмотреть результаты анализа\n",
    "\n",
    "Отчеты сохраняются в папку `reports/` для дальнейшего использования.\n"
   ]
  }
 ],
 "metadata": {
  "kernelspec": {
   "display_name": "Python 3 (ipykernel)",
   "language": "python",
   "name": "python3"
  },
  "language_info": {
   "codemirror_mode": {
    "name": "ipython",
    "version": 3
   },
   "file_extension": ".py",
   "mimetype": "text/x-python",
   "name": "python",
   "nbconvert_exporter": "python",
   "pygments_lexer": "ipython3",
   "version": "3.12.4"
  }
 },
 "nbformat": 4,
 "nbformat_minor": 4
}
